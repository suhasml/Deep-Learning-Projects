{
 "cells": [
  {
   "cell_type": "code",
   "execution_count": 1,
   "metadata": {},
   "outputs": [],
   "source": [
    "import matplotlib.pyplot as plt\n",
    "from matplotlib.image import imread\n",
    "import sys"
   ]
  },
  {
   "cell_type": "code",
   "execution_count": 2,
   "metadata": {},
   "outputs": [],
   "source": [
    "#Loction of the dataset\n",
    "folder = 'D:/Coding/Projects/Deep Learning/Dog v Cat/train/'"
   ]
  },
  {
   "cell_type": "code",
   "execution_count": null,
   "metadata": {},
   "outputs": [],
   "source": [
    "#Plotting first 5 cat or dog images\n",
    "for i in range(5):\n",
    "    plt.subplot(330+1+i)\n",
    "    filename = folder +'cat.' + str(i) +'.jpg'\n",
    "    image = imread(filename)\n",
    "    plt.imshow(image)\n",
    "plt.show()"
   ]
  },
  {
   "cell_type": "code",
   "execution_count": 3,
   "metadata": {},
   "outputs": [],
   "source": [
    "\n",
    "# organize dataset into a useful structure\n",
    "from os import makedirs\n",
    "from os import listdir\n",
    "from shutil import copyfile\n",
    "from random import seed\n",
    "from random import random\n",
    "# create directories\n",
    "dataset_home = 'dataset_dogs_vs_cats/'\n",
    "subdirs = ['train/', 'test/']\n",
    "for subdir in subdirs:\n",
    "\t# create label subdirectories\n",
    "\tlabeldirs = ['dogs/', 'cats/']\n",
    "\tfor labldir in labeldirs:\n",
    "\t\tnewdir = dataset_home + subdir + labldir\n",
    "\t\tmakedirs(newdir, exist_ok=True)\n",
    "# seed random number generator\n",
    "seed(1)\n",
    "# define ratio of pictures to use for validation\n",
    "val_ratio = 0.25\n",
    "# copy training dataset images into subdirectories\n",
    "src_directory = 'train/train/'\n",
    "for file in listdir(src_directory):\n",
    "\tsrc = src_directory + '/' + file\n",
    "\tdst_dir = 'train/'\n",
    "\tif random() < val_ratio:\n",
    "\t\tdst_dir = 'test/'\n",
    "\tif file.startswith('cat'):\n",
    "\t\tdst = dataset_home + dst_dir + 'cats/'  + file\n",
    "\t\tcopyfile(src, dst)\n",
    "\telif file.startswith('dog'):\n",
    "\t\tdst = dataset_home + dst_dir + 'dogs/'  + file\n",
    "\t\tcopyfile(src, dst)"
   ]
  },
  {
   "cell_type": "markdown",
   "metadata": {},
   "source": [
    "1. CNN"
   ]
  },
  {
   "cell_type": "code",
   "execution_count": 4,
   "metadata": {},
   "outputs": [],
   "source": [
    "from keras.utils import to_categorical\n",
    "from keras.models import Sequential\n",
    "from keras.layers import Dense, Conv2D, MaxPooling2D, Flatten\n",
    "from keras.optimizers import SGD \n",
    "from keras.preprocessing.image import ImageDataGenerator"
   ]
  },
  {
   "cell_type": "code",
   "execution_count": 5,
   "metadata": {},
   "outputs": [],
   "source": [
    "def cnn():\n",
    "    model = Sequential()\n",
    "    model.add(Conv2D(32,(3,3),activation='relu',kernel_initializer='he_uniform',padding='same',input_shape=(200,200,3)))\n",
    "    model.add(MaxPooling2D((2,2)))\n",
    "    model.add(Flatten()) \n",
    "    model.add(Dense(128,activation='relu',kernel_initializer='he_uniform'))\n",
    "    model.add(Dense(1,activation='sigmoid'))\n",
    "    opt = SGD(learning_rate=0.001,momentum=0.9)\n",
    "    model.compile(optimizer=opt,loss='binary_crossentropy',metrics=['accuracy'])\n",
    "    return model   "
   ]
  },
  {
   "cell_type": "code",
   "execution_count": 6,
   "metadata": {},
   "outputs": [
    {
     "name": "stdout",
     "output_type": "stream",
     "text": [
      "Found 18697 images belonging to 2 classes.\n",
      "Found 6303 images belonging to 2 classes.\n",
      "Epoch 1/20\n",
      "293/293 [==============================] - 30s 92ms/step - loss: 0.6843 - accuracy: 0.5768 - val_loss: 0.6549 - val_accuracy: 0.6045\n",
      "Epoch 2/20\n",
      "293/293 [==============================] - 29s 100ms/step - loss: 0.6484 - accuracy: 0.6153 - val_loss: 0.7158 - val_accuracy: 0.5458\n",
      "Epoch 3/20\n",
      "293/293 [==============================] - 28s 97ms/step - loss: 0.6462 - accuracy: 0.6204 - val_loss: 0.6372 - val_accuracy: 0.6145\n",
      "Epoch 4/20\n",
      "293/293 [==============================] - 29s 98ms/step - loss: 0.6226 - accuracy: 0.6399 - val_loss: 0.6240 - val_accuracy: 0.6313\n",
      "Epoch 5/20\n",
      "293/293 [==============================] - 29s 98ms/step - loss: 0.6165 - accuracy: 0.6435 - val_loss: 0.6318 - val_accuracy: 0.6324\n",
      "Epoch 6/20\n",
      "293/293 [==============================] - 29s 98ms/step - loss: 0.6128 - accuracy: 0.6535 - val_loss: 0.6200 - val_accuracy: 0.6365\n",
      "Epoch 7/20\n",
      "293/293 [==============================] - 30s 101ms/step - loss: 0.5938 - accuracy: 0.6706 - val_loss: 0.6213 - val_accuracy: 0.6345\n",
      "Epoch 8/20\n",
      "293/293 [==============================] - 28s 94ms/step - loss: 0.5800 - accuracy: 0.6850 - val_loss: 0.6120 - val_accuracy: 0.6430\n",
      "Epoch 9/20\n",
      "293/293 [==============================] - 28s 95ms/step - loss: 0.5643 - accuracy: 0.7003 - val_loss: 0.5847 - val_accuracy: 0.6705\n",
      "Epoch 10/20\n",
      "293/293 [==============================] - 30s 102ms/step - loss: 0.5420 - accuracy: 0.7227 - val_loss: 0.5716 - val_accuracy: 0.6903\n",
      "Epoch 11/20\n",
      "293/293 [==============================] - 31s 105ms/step - loss: 0.5208 - accuracy: 0.7408 - val_loss: 0.5578 - val_accuracy: 0.7065\n",
      "Epoch 12/20\n",
      "293/293 [==============================] - 29s 97ms/step - loss: 0.4946 - accuracy: 0.7600 - val_loss: 0.5633 - val_accuracy: 0.7035\n",
      "Epoch 13/20\n",
      "293/293 [==============================] - 29s 99ms/step - loss: 0.4696 - accuracy: 0.7765 - val_loss: 0.5528 - val_accuracy: 0.7155\n",
      "Epoch 14/20\n",
      "293/293 [==============================] - 29s 97ms/step - loss: 0.4415 - accuracy: 0.7984 - val_loss: 0.5410 - val_accuracy: 0.7279\n",
      "Epoch 15/20\n",
      "293/293 [==============================] - 30s 102ms/step - loss: 0.4125 - accuracy: 0.8117 - val_loss: 0.5693 - val_accuracy: 0.7160\n",
      "Epoch 16/20\n",
      "293/293 [==============================] - 30s 101ms/step - loss: 0.3807 - accuracy: 0.8338 - val_loss: 0.5468 - val_accuracy: 0.7292\n",
      "Epoch 17/20\n",
      "293/293 [==============================] - 31s 107ms/step - loss: 0.3405 - accuracy: 0.8584 - val_loss: 0.5437 - val_accuracy: 0.7333\n",
      "Epoch 18/20\n",
      "293/293 [==============================] - 31s 105ms/step - loss: 0.3131 - accuracy: 0.8732 - val_loss: 0.5664 - val_accuracy: 0.7328\n",
      "Epoch 19/20\n",
      "293/293 [==============================] - 29s 98ms/step - loss: 0.2742 - accuracy: 0.8950 - val_loss: 0.5551 - val_accuracy: 0.7379\n",
      "Epoch 20/20\n",
      "293/293 [==============================] - 29s 101ms/step - loss: 0.2465 - accuracy: 0.9096 - val_loss: 0.5807 - val_accuracy: 0.7316\n",
      "99/99 [==============================] - 8s 77ms/step - loss: 0.5807 - accuracy: 0.7316\n",
      "> 73.156\n"
     ]
    }
   ],
   "source": [
    "# plot diagnostic learning curves\n",
    "def summarize_diagnostics(history):\n",
    "\t# plot loss\n",
    "\tplt.subplot(211)\n",
    "\tplt.title('Cross Entropy Loss')\n",
    "\tplt.plot(history.history['loss'], color='blue', label='train')\n",
    "\tplt.plot(history.history['val_loss'], color='orange', label='test')\n",
    "\t# plot accuracy\n",
    "\tplt.subplot(212)\n",
    "\tplt.title('Classification Accuracy')\n",
    "\tplt.plot(history.history['accuracy'], color='blue', label='train')\n",
    "\tplt.plot(history.history['val_accuracy'], color='orange', label='test')\n",
    "\t# save plot to file\n",
    "\t\n",
    "\tplt.close()\n",
    "\n",
    "# run the test harness for evaluating a model\n",
    "\n",
    "# define model\n",
    "model = cnn()\n",
    "# create data generator\n",
    "datagen = ImageDataGenerator(rescale=1.0/255.0)\n",
    "# prepare iterators\n",
    "train_it = datagen.flow_from_directory('dataset_dogs_vs_cats/train/',\n",
    "\tclass_mode='binary', batch_size=64, target_size=(200, 200))\n",
    "test_it = datagen.flow_from_directory('dataset_dogs_vs_cats/test/',\n",
    "\tclass_mode='binary', batch_size=64, target_size=(200, 200))\n",
    "# fit model\n",
    "history = model.fit(train_it, steps_per_epoch=len(train_it),\n",
    "\tvalidation_data=test_it, validation_steps=len(test_it), epochs=20)\n",
    "# evaluate model\n",
    "_, acc = model.evaluate(test_it, steps=len(test_it))\n",
    "print('> %.3f' % (acc * 100.0))\n",
    "# learning curves\n",
    "#summarize_diagnostics(history)\n",
    "\n",
    "# entry point, run the test harness\n"
   ]
  },
  {
   "cell_type": "code",
   "execution_count": 7,
   "metadata": {},
   "outputs": [],
   "source": [
    "#save cnn model\n",
    "model.save('dogVcatCNN.h5')"
   ]
  }
 ],
 "metadata": {
  "kernelspec": {
   "display_name": "Python 3.10.7 64-bit",
   "language": "python",
   "name": "python3"
  },
  "language_info": {
   "codemirror_mode": {
    "name": "ipython",
    "version": 3
   },
   "file_extension": ".py",
   "mimetype": "text/x-python",
   "name": "python",
   "nbconvert_exporter": "python",
   "pygments_lexer": "ipython3",
   "version": "3.10.7"
  },
  "orig_nbformat": 4,
  "vscode": {
   "interpreter": {
    "hash": "26de051ba29f2982a8de78e945f0abaf191376122a1563185a90213a26c5da77"
   }
  }
 },
 "nbformat": 4,
 "nbformat_minor": 2
}
